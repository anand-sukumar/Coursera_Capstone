{
    "cells": [
        {
            "cell_type": "markdown",
            "metadata": {},
            "source": "# Segmenting and Clustering Neighborhoods in Toronto"
        },
        {
            "cell_type": "markdown",
            "metadata": {},
            "source": "## Web Scraping Toronto Postal Codes"
        },
        {
            "cell_type": "code",
            "execution_count": 141,
            "metadata": {},
            "outputs": [
                {
                    "name": "stdout",
                    "output_type": "stream",
                    "text": "Solving environment: done\n\n## Package Plan ##\n\n  environment location: /opt/conda/envs/Python36\n\n  added / updated specs: \n    - folium=0.5.0\n\n\nThe following packages will be downloaded:\n\n    package                    |            build\n    ---------------------------|-----------------\n    altair-3.3.0               |           py36_0         747 KB  conda-forge\n    folium-0.5.0               |             py_0          45 KB  conda-forge\n    certifi-2019.11.28         |           py36_0         149 KB  conda-forge\n    ca-certificates-2019.11.28 |       hecc5488_0         145 KB  conda-forge\n    openssl-1.1.1d             |       h516909a_0         2.1 MB  conda-forge\n    branca-0.3.1               |             py_0          25 KB  conda-forge\n    vincent-0.4.4              |             py_1          28 KB  conda-forge\n    ------------------------------------------------------------\n                                           Total:         3.2 MB\n\nThe following NEW packages will be INSTALLED:\n\n    altair:          3.3.0-py36_0      conda-forge\n    branca:          0.3.1-py_0        conda-forge\n    folium:          0.5.0-py_0        conda-forge\n    vincent:         0.4.4-py_1        conda-forge\n\nThe following packages will be UPDATED:\n\n    ca-certificates: 2019.10.16-0                  --> 2019.11.28-hecc5488_0 conda-forge\n    certifi:         2019.9.11-py36_0              --> 2019.11.28-py36_0     conda-forge\n\nThe following packages will be DOWNGRADED:\n\n    openssl:         1.1.1d-h7b6447c_3             --> 1.1.1d-h516909a_0     conda-forge\n\n\nDownloading and Extracting Packages\naltair-3.3.0         | 747 KB    | ##################################### | 100% \nfolium-0.5.0         | 45 KB     | ##################################### | 100% \ncertifi-2019.11.28   | 149 KB    | ##################################### | 100% \nca-certificates-2019 | 145 KB    | ##################################### | 100% \nopenssl-1.1.1d       | 2.1 MB    | ##################################### | 100% \nbranca-0.3.1         | 25 KB     | ##################################### | 100% \nvincent-0.4.4        | 28 KB     | ##################################### | 100% \nPreparing transaction: done\nVerifying transaction: done\nExecuting transaction: done\n"
                }
            ],
            "source": "import requests\nfrom bs4 import BeautifulSoup\nimport pandas as pd\nimport json # library to handle JSON files\nimport requests # library to handle requests\n# import k-means from clustering stage\nfrom sklearn.cluster import KMeans\n!conda install -c conda-forge folium=0.5.0 \nimport folium # map rendering library"
        },
        {
            "cell_type": "code",
            "execution_count": 72,
            "metadata": {},
            "outputs": [],
            "source": "URL = 'https://en.wikipedia.org/wiki/List_of_postal_codes_of_Canada:_M'"
        },
        {
            "cell_type": "code",
            "execution_count": 73,
            "metadata": {},
            "outputs": [],
            "source": "page = requests.get(URL)"
        },
        {
            "cell_type": "code",
            "execution_count": 74,
            "metadata": {},
            "outputs": [],
            "source": "soup = BeautifulSoup(page.text, 'html.parser')"
        },
        {
            "cell_type": "code",
            "execution_count": 75,
            "metadata": {},
            "outputs": [],
            "source": "columns = ['PostalCode','Borough','Neighborhood']"
        },
        {
            "cell_type": "code",
            "execution_count": 76,
            "metadata": {},
            "outputs": [],
            "source": "postaltable = soup.find_all('table')[0]"
        },
        {
            "cell_type": "markdown",
            "metadata": {},
            "source": "### Converting Postal Codes html table info to Pandas Dataframe"
        },
        {
            "cell_type": "code",
            "execution_count": 78,
            "metadata": {},
            "outputs": [],
            "source": "df = pd.read_html(str(postaltable))"
        },
        {
            "cell_type": "code",
            "execution_count": 79,
            "metadata": {
                "scrolled": true
            },
            "outputs": [
                {
                    "data": {
                        "text/html": "<div>\n<style scoped>\n    .dataframe tbody tr th:only-of-type {\n        vertical-align: middle;\n    }\n\n    .dataframe tbody tr th {\n        vertical-align: top;\n    }\n\n    .dataframe thead th {\n        text-align: right;\n    }\n</style>\n<table border=\"1\" class=\"dataframe\">\n  <thead>\n    <tr style=\"text-align: right;\">\n      <th></th>\n      <th>Postcode</th>\n      <th>Borough</th>\n      <th>Neighbourhood</th>\n    </tr>\n  </thead>\n  <tbody>\n    <tr>\n      <th>0</th>\n      <td>M1A</td>\n      <td>Not assigned</td>\n      <td>Not assigned</td>\n    </tr>\n    <tr>\n      <th>1</th>\n      <td>M2A</td>\n      <td>Not assigned</td>\n      <td>Not assigned</td>\n    </tr>\n    <tr>\n      <th>2</th>\n      <td>M3A</td>\n      <td>North York</td>\n      <td>Parkwoods</td>\n    </tr>\n    <tr>\n      <th>3</th>\n      <td>M4A</td>\n      <td>North York</td>\n      <td>Victoria Village</td>\n    </tr>\n    <tr>\n      <th>4</th>\n      <td>M5A</td>\n      <td>Downtown Toronto</td>\n      <td>Harbourfront</td>\n    </tr>\n  </tbody>\n</table>\n</div>",
                        "text/plain": "  Postcode           Borough     Neighbourhood\n0      M1A      Not assigned      Not assigned\n1      M2A      Not assigned      Not assigned\n2      M3A        North York         Parkwoods\n3      M4A        North York  Victoria Village\n4      M5A  Downtown Toronto      Harbourfront"
                    },
                    "execution_count": 79,
                    "metadata": {},
                    "output_type": "execute_result"
                }
            ],
            "source": "df[0].head()"
        },
        {
            "cell_type": "code",
            "execution_count": 80,
            "metadata": {},
            "outputs": [
                {
                    "name": "stdout",
                    "output_type": "stream",
                    "text": "<class 'pandas.core.frame.DataFrame'>\nRangeIndex: 287 entries, 0 to 286\nData columns (total 3 columns):\nPostcode         287 non-null object\nBorough          287 non-null object\nNeighbourhood    287 non-null object\ndtypes: object(3)\nmemory usage: 6.8+ KB\n"
                }
            ],
            "source": "df[0].info()"
        },
        {
            "cell_type": "code",
            "execution_count": 81,
            "metadata": {},
            "outputs": [],
            "source": "postalcodes = df[0]"
        },
        {
            "cell_type": "code",
            "execution_count": 82,
            "metadata": {},
            "outputs": [],
            "source": "postalcodes.columns = columns"
        },
        {
            "cell_type": "code",
            "execution_count": 83,
            "metadata": {},
            "outputs": [
                {
                    "data": {
                        "text/html": "<div>\n<style scoped>\n    .dataframe tbody tr th:only-of-type {\n        vertical-align: middle;\n    }\n\n    .dataframe tbody tr th {\n        vertical-align: top;\n    }\n\n    .dataframe thead th {\n        text-align: right;\n    }\n</style>\n<table border=\"1\" class=\"dataframe\">\n  <thead>\n    <tr style=\"text-align: right;\">\n      <th></th>\n      <th>PostalCode</th>\n      <th>Borough</th>\n      <th>Neighborhood</th>\n    </tr>\n  </thead>\n  <tbody>\n    <tr>\n      <th>0</th>\n      <td>M1A</td>\n      <td>Not assigned</td>\n      <td>Not assigned</td>\n    </tr>\n    <tr>\n      <th>1</th>\n      <td>M2A</td>\n      <td>Not assigned</td>\n      <td>Not assigned</td>\n    </tr>\n    <tr>\n      <th>2</th>\n      <td>M3A</td>\n      <td>North York</td>\n      <td>Parkwoods</td>\n    </tr>\n    <tr>\n      <th>3</th>\n      <td>M4A</td>\n      <td>North York</td>\n      <td>Victoria Village</td>\n    </tr>\n    <tr>\n      <th>4</th>\n      <td>M5A</td>\n      <td>Downtown Toronto</td>\n      <td>Harbourfront</td>\n    </tr>\n  </tbody>\n</table>\n</div>",
                        "text/plain": "  PostalCode           Borough      Neighborhood\n0        M1A      Not assigned      Not assigned\n1        M2A      Not assigned      Not assigned\n2        M3A        North York         Parkwoods\n3        M4A        North York  Victoria Village\n4        M5A  Downtown Toronto      Harbourfront"
                    },
                    "execution_count": 83,
                    "metadata": {},
                    "output_type": "execute_result"
                }
            ],
            "source": "postalcodes.head()"
        },
        {
            "cell_type": "markdown",
            "metadata": {},
            "source": "### Narrow down the dataframe to ignore/exclude Not Assigned Boroughs"
        },
        {
            "cell_type": "code",
            "execution_count": 84,
            "metadata": {},
            "outputs": [],
            "source": "postalcodes = postalcodes[postalcodes['Borough'] != 'Not assigned']"
        },
        {
            "cell_type": "markdown",
            "metadata": {},
            "source": "### Grouping the Neighborhoods w.r.t each Boroughs"
        },
        {
            "cell_type": "code",
            "execution_count": 93,
            "metadata": {},
            "outputs": [],
            "source": "toronto_pcodes = postalcodes.groupby(['PostalCode','Borough'])['Neighborhood'].agg(', '.join).to_frame()"
        },
        {
            "cell_type": "code",
            "execution_count": 98,
            "metadata": {
                "scrolled": true
            },
            "outputs": [],
            "source": "toronto_pcodes = toronto_pcodes.reset_index()"
        },
        {
            "cell_type": "code",
            "execution_count": 100,
            "metadata": {},
            "outputs": [
                {
                    "name": "stdout",
                    "output_type": "stream",
                    "text": "<class 'pandas.core.frame.DataFrame'>\nRangeIndex: 103 entries, 0 to 102\nData columns (total 3 columns):\nPostalCode      103 non-null object\nBorough         103 non-null object\nNeighborhood    103 non-null object\ndtypes: object(3)\nmemory usage: 2.5+ KB\n"
                }
            ],
            "source": "toronto_pcodes.info()"
        },
        {
            "cell_type": "code",
            "execution_count": 101,
            "metadata": {},
            "outputs": [
                {
                    "data": {
                        "text/html": "<div>\n<style scoped>\n    .dataframe tbody tr th:only-of-type {\n        vertical-align: middle;\n    }\n\n    .dataframe tbody tr th {\n        vertical-align: top;\n    }\n\n    .dataframe thead th {\n        text-align: right;\n    }\n</style>\n<table border=\"1\" class=\"dataframe\">\n  <thead>\n    <tr style=\"text-align: right;\">\n      <th></th>\n      <th>PostalCode</th>\n      <th>Borough</th>\n      <th>Neighborhood</th>\n    </tr>\n  </thead>\n  <tbody>\n    <tr>\n      <th>0</th>\n      <td>M1B</td>\n      <td>Scarborough</td>\n      <td>Rouge, Malvern</td>\n    </tr>\n    <tr>\n      <th>1</th>\n      <td>M1C</td>\n      <td>Scarborough</td>\n      <td>Highland Creek, Rouge Hill, Port Union</td>\n    </tr>\n    <tr>\n      <th>2</th>\n      <td>M1E</td>\n      <td>Scarborough</td>\n      <td>Guildwood, Morningside, West Hill</td>\n    </tr>\n    <tr>\n      <th>3</th>\n      <td>M1G</td>\n      <td>Scarborough</td>\n      <td>Woburn</td>\n    </tr>\n    <tr>\n      <th>4</th>\n      <td>M1H</td>\n      <td>Scarborough</td>\n      <td>Cedarbrae</td>\n    </tr>\n  </tbody>\n</table>\n</div>",
                        "text/plain": "  PostalCode      Borough                            Neighborhood\n0        M1B  Scarborough                          Rouge, Malvern\n1        M1C  Scarborough  Highland Creek, Rouge Hill, Port Union\n2        M1E  Scarborough       Guildwood, Morningside, West Hill\n3        M1G  Scarborough                                  Woburn\n4        M1H  Scarborough                               Cedarbrae"
                    },
                    "execution_count": 101,
                    "metadata": {},
                    "output_type": "execute_result"
                }
            ],
            "source": "toronto_pcodes.head()"
        },
        {
            "cell_type": "code",
            "execution_count": 103,
            "metadata": {},
            "outputs": [
                {
                    "data": {
                        "text/plain": "(103, 3)"
                    },
                    "execution_count": 103,
                    "metadata": {},
                    "output_type": "execute_result"
                }
            ],
            "source": "toronto_pcodes.shape"
        },
        {
            "cell_type": "markdown",
            "metadata": {},
            "source": "#### overall 103 postal codes are identified and integrated in the dataframe"
        },
        {
            "cell_type": "markdown",
            "metadata": {},
            "source": "# Append Coordinates with help of GeoSpatial data"
        },
        {
            "cell_type": "code",
            "execution_count": 111,
            "metadata": {},
            "outputs": [
                {
                    "name": "stdout",
                    "output_type": "stream",
                    "text": "data downloaded\n"
                }
            ],
            "source": "!wget -q -O 'geospatial_coordinates.csv' http://cocl.us/Geospatial_data\nprint('data downloaded')"
        },
        {
            "cell_type": "code",
            "execution_count": 112,
            "metadata": {},
            "outputs": [
                {
                    "data": {
                        "text/html": "<div>\n<style scoped>\n    .dataframe tbody tr th:only-of-type {\n        vertical-align: middle;\n    }\n\n    .dataframe tbody tr th {\n        vertical-align: top;\n    }\n\n    .dataframe thead th {\n        text-align: right;\n    }\n</style>\n<table border=\"1\" class=\"dataframe\">\n  <thead>\n    <tr style=\"text-align: right;\">\n      <th></th>\n      <th>Postal Code</th>\n      <th>Latitude</th>\n      <th>Longitude</th>\n    </tr>\n  </thead>\n  <tbody>\n    <tr>\n      <th>0</th>\n      <td>M1B</td>\n      <td>43.806686</td>\n      <td>-79.194353</td>\n    </tr>\n    <tr>\n      <th>1</th>\n      <td>M1C</td>\n      <td>43.784535</td>\n      <td>-79.160497</td>\n    </tr>\n    <tr>\n      <th>2</th>\n      <td>M1E</td>\n      <td>43.763573</td>\n      <td>-79.188711</td>\n    </tr>\n    <tr>\n      <th>3</th>\n      <td>M1G</td>\n      <td>43.770992</td>\n      <td>-79.216917</td>\n    </tr>\n    <tr>\n      <th>4</th>\n      <td>M1H</td>\n      <td>43.773136</td>\n      <td>-79.239476</td>\n    </tr>\n  </tbody>\n</table>\n</div>",
                        "text/plain": "  Postal Code   Latitude  Longitude\n0         M1B  43.806686 -79.194353\n1         M1C  43.784535 -79.160497\n2         M1E  43.763573 -79.188711\n3         M1G  43.770992 -79.216917\n4         M1H  43.773136 -79.239476"
                    },
                    "execution_count": 112,
                    "metadata": {},
                    "output_type": "execute_result"
                }
            ],
            "source": "geo_coord = pd.read_csv('geospatial_coordinates.csv')\ngeo_coord.head()"
        },
        {
            "cell_type": "markdown",
            "metadata": {},
            "source": "### Merging Coordinates with Toronto Postal Codes dataframe"
        },
        {
            "cell_type": "code",
            "execution_count": 117,
            "metadata": {},
            "outputs": [],
            "source": "toronto_postal_coord = pd.merge(left=toronto_pcodes, right=geo_coord, left_on = 'PostalCode', right_on = 'Postal Code', how='inner')"
        },
        {
            "cell_type": "code",
            "execution_count": 120,
            "metadata": {},
            "outputs": [],
            "source": "toronto_postal_coord.drop(columns=['Postal Code'], inplace=True)"
        },
        {
            "cell_type": "code",
            "execution_count": 121,
            "metadata": {},
            "outputs": [
                {
                    "data": {
                        "text/html": "<div>\n<style scoped>\n    .dataframe tbody tr th:only-of-type {\n        vertical-align: middle;\n    }\n\n    .dataframe tbody tr th {\n        vertical-align: top;\n    }\n\n    .dataframe thead th {\n        text-align: right;\n    }\n</style>\n<table border=\"1\" class=\"dataframe\">\n  <thead>\n    <tr style=\"text-align: right;\">\n      <th></th>\n      <th>PostalCode</th>\n      <th>Borough</th>\n      <th>Neighborhood</th>\n      <th>Latitude</th>\n      <th>Longitude</th>\n    </tr>\n  </thead>\n  <tbody>\n    <tr>\n      <th>0</th>\n      <td>M1B</td>\n      <td>Scarborough</td>\n      <td>Rouge, Malvern</td>\n      <td>43.806686</td>\n      <td>-79.194353</td>\n    </tr>\n    <tr>\n      <th>1</th>\n      <td>M1C</td>\n      <td>Scarborough</td>\n      <td>Highland Creek, Rouge Hill, Port Union</td>\n      <td>43.784535</td>\n      <td>-79.160497</td>\n    </tr>\n    <tr>\n      <th>2</th>\n      <td>M1E</td>\n      <td>Scarborough</td>\n      <td>Guildwood, Morningside, West Hill</td>\n      <td>43.763573</td>\n      <td>-79.188711</td>\n    </tr>\n    <tr>\n      <th>3</th>\n      <td>M1G</td>\n      <td>Scarborough</td>\n      <td>Woburn</td>\n      <td>43.770992</td>\n      <td>-79.216917</td>\n    </tr>\n    <tr>\n      <th>4</th>\n      <td>M1H</td>\n      <td>Scarborough</td>\n      <td>Cedarbrae</td>\n      <td>43.773136</td>\n      <td>-79.239476</td>\n    </tr>\n  </tbody>\n</table>\n</div>",
                        "text/plain": "  PostalCode      Borough                            Neighborhood   Latitude  \\\n0        M1B  Scarborough                          Rouge, Malvern  43.806686   \n1        M1C  Scarborough  Highland Creek, Rouge Hill, Port Union  43.784535   \n2        M1E  Scarborough       Guildwood, Morningside, West Hill  43.763573   \n3        M1G  Scarborough                                  Woburn  43.770992   \n4        M1H  Scarborough                               Cedarbrae  43.773136   \n\n   Longitude  \n0 -79.194353  \n1 -79.160497  \n2 -79.188711  \n3 -79.216917  \n4 -79.239476  "
                    },
                    "execution_count": 121,
                    "metadata": {},
                    "output_type": "execute_result"
                }
            ],
            "source": "toronto_postal_coord.head()"
        },
        {
            "cell_type": "markdown",
            "metadata": {},
            "source": "# Explore and cluster the neighborhoods in Toronto"
        },
        {
            "cell_type": "code",
            "execution_count": 126,
            "metadata": {},
            "outputs": [
                {
                    "data": {
                        "text/plain": "array(['Scarborough', 'North York', 'East York', 'East Toronto',\n       'Central Toronto', 'Downtown Toronto', 'York', 'West Toronto',\n       \"Queen's Park\", 'Mississauga', 'Etobicoke'], dtype=object)"
                    },
                    "execution_count": 126,
                    "metadata": {},
                    "output_type": "execute_result"
                }
            ],
            "source": "toronto_postal_coord['Borough'].unique()"
        },
        {
            "cell_type": "code",
            "execution_count": 130,
            "metadata": {},
            "outputs": [],
            "source": "toronto_postal_coord = toronto_postal_coord[toronto_postal_coord['Borough'].str.contains('Toronto')]"
        },
        {
            "cell_type": "code",
            "execution_count": 135,
            "metadata": {},
            "outputs": [],
            "source": "toronto_postal_coord = toronto_postal_coord.reset_index()"
        },
        {
            "cell_type": "code",
            "execution_count": 137,
            "metadata": {},
            "outputs": [],
            "source": "toronto_postal_coord.drop(columns='index', inplace=True)"
        },
        {
            "cell_type": "code",
            "execution_count": 138,
            "metadata": {},
            "outputs": [
                {
                    "data": {
                        "text/html": "<div>\n<style scoped>\n    .dataframe tbody tr th:only-of-type {\n        vertical-align: middle;\n    }\n\n    .dataframe tbody tr th {\n        vertical-align: top;\n    }\n\n    .dataframe thead th {\n        text-align: right;\n    }\n</style>\n<table border=\"1\" class=\"dataframe\">\n  <thead>\n    <tr style=\"text-align: right;\">\n      <th></th>\n      <th>PostalCode</th>\n      <th>Borough</th>\n      <th>Neighborhood</th>\n      <th>Latitude</th>\n      <th>Longitude</th>\n    </tr>\n  </thead>\n  <tbody>\n    <tr>\n      <th>0</th>\n      <td>M4E</td>\n      <td>East Toronto</td>\n      <td>The Beaches</td>\n      <td>43.676357</td>\n      <td>-79.293031</td>\n    </tr>\n    <tr>\n      <th>1</th>\n      <td>M4K</td>\n      <td>East Toronto</td>\n      <td>The Danforth West, Riverdale</td>\n      <td>43.679557</td>\n      <td>-79.352188</td>\n    </tr>\n    <tr>\n      <th>2</th>\n      <td>M4L</td>\n      <td>East Toronto</td>\n      <td>The Beaches West, India Bazaar</td>\n      <td>43.668999</td>\n      <td>-79.315572</td>\n    </tr>\n    <tr>\n      <th>3</th>\n      <td>M4M</td>\n      <td>East Toronto</td>\n      <td>Studio District</td>\n      <td>43.659526</td>\n      <td>-79.340923</td>\n    </tr>\n    <tr>\n      <th>4</th>\n      <td>M4N</td>\n      <td>Central Toronto</td>\n      <td>Lawrence Park</td>\n      <td>43.728020</td>\n      <td>-79.388790</td>\n    </tr>\n  </tbody>\n</table>\n</div>",
                        "text/plain": "  PostalCode          Borough                    Neighborhood   Latitude  \\\n0        M4E     East Toronto                     The Beaches  43.676357   \n1        M4K     East Toronto    The Danforth West, Riverdale  43.679557   \n2        M4L     East Toronto  The Beaches West, India Bazaar  43.668999   \n3        M4M     East Toronto                 Studio District  43.659526   \n4        M4N  Central Toronto                   Lawrence Park  43.728020   \n\n   Longitude  \n0 -79.293031  \n1 -79.352188  \n2 -79.315572  \n3 -79.340923  \n4 -79.388790  "
                    },
                    "execution_count": 138,
                    "metadata": {},
                    "output_type": "execute_result"
                }
            ],
            "source": "toronto_postal_coord.head()"
        },
        {
            "cell_type": "code",
            "execution_count": 144,
            "metadata": {},
            "outputs": [],
            "source": "# Toronto Coordinates\nLatitude = 43.6532\nLongitude = -79.3832"
        },
        {
            "cell_type": "markdown",
            "metadata": {},
            "source": "### Toronto Neighborhood map view"
        },
        {
            "cell_type": "code",
            "execution_count": 147,
            "metadata": {
                "collapsed": true
            },
            "outputs": [
                {
                    "data": {
                        "text/html": "<div style=\"width:100%;\"><div style=\"position:relative;width:100%;height:0;padding-bottom:60%;\"><iframe src=\"data:text/html;charset=utf-8;base64,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\" style=\"position:absolute;width:100%;height:100%;left:0;top:0;border:none !important;\" allowfullscreen webkitallowfullscreen mozallowfullscreen></iframe></div></div>",
                        "text/plain": "<folium.folium.Map at 0x7faf7c1250b8>"
                    },
                    "execution_count": 147,
                    "metadata": {},
                    "output_type": "execute_result"
                }
            ],
            "source": "map_toronto = folium.Map(location=[Latitude, Longitude], zoom_start = 12)\n\nfor lat, lng, lbl in zip(toronto_postal_coord['Latitude'], toronto_postal_coord['Longitude'], toronto_postal_coord['Neighborhood']):\n    label = folium.Popup(lbl, parse_html=True)\n    folium.CircleMarker(\n        [lat, lng],\n        radius = 5,\n        popup = label,\n        fill = True,\n        color = 'blue',\n        fill_color = 'yellow',\n        fill_opacity = 0.7,\n        parse_html = False\n    ).add_to(map_toronto)\nmap_toronto"
        },
        {
            "cell_type": "markdown",
            "metadata": {},
            "source": "### Define Foursquare Credentials and Version"
        },
        {
            "cell_type": "code",
            "execution_count": 161,
            "metadata": {},
            "outputs": [
                {
                    "name": "stdout",
                    "output_type": "stream",
                    "text": "Your credentails:\nCLIENT_ID: 1XWYOQ0GV5OZHK4E2J2N051LVBLAQGSNW3GBHUZXBZI3RPDW\nCLIENT_SECRET:MHSY1JRZTVAFLUYQ0R4HIQVQLQ5XM5THVUBYSWJ4D32XRGLH\n"
                }
            ],
            "source": "# The code was removed by Watson Studio for sharing."
        },
        {
            "cell_type": "markdown",
            "metadata": {},
            "source": "### Exploring the first neighborhood of Toronto via Foursquare API results"
        },
        {
            "cell_type": "code",
            "execution_count": 152,
            "metadata": {},
            "outputs": [
                {
                    "data": {
                        "text/plain": "'The Beaches'"
                    },
                    "execution_count": 152,
                    "metadata": {},
                    "output_type": "execute_result"
                }
            ],
            "source": "toronto_postal_coord.loc[0, 'Neighborhood']"
        },
        {
            "cell_type": "code",
            "execution_count": 154,
            "metadata": {},
            "outputs": [
                {
                    "name": "stdout",
                    "output_type": "stream",
                    "text": "Latitude and longitude values of The Beaches are 43.67635739999999, -79.2930312.\n"
                }
            ],
            "source": "first_neighbor_name = toronto_postal_coord.loc[0, 'Neighborhood']\nfirst_neighbor_lat = toronto_postal_coord.loc[0, 'Latitude']\nfirst_neighbor_long = toronto_postal_coord.loc[0, 'Longitude']\n\nprint('Latitude and longitude values of {} are {}, {}.'.format(first_neighbor_name, \n                                                               first_neighbor_lat, \n                                                               first_neighbor_long))"
        },
        {
            "cell_type": "markdown",
            "metadata": {},
            "source": "#### Now, let's get the top 100 venues that are in The Beaches within a radius of 500 meters."
        },
        {
            "cell_type": "markdown",
            "metadata": {},
            "source": "###### First, let's create the GET request URL. Name your URL **url**."
        },
        {
            "cell_type": "code",
            "execution_count": 205,
            "metadata": {},
            "outputs": [],
            "source": "\nurl = 'https://api.foursquare.com/v2/venues/explore?client_id={}&client_secret={}&v={}&ll={},{}&radius={}&limit={}'.format(\nCLIENT_ID,\nCLIENT_SECRET,\nVERSION,\nfirst_neighbor_lat,\nfirst_neighbor_long,\n500,\n100\n)\n\n"
        },
        {
            "cell_type": "markdown",
            "metadata": {},
            "source": "###### Send the GET request and examine the resutls"
        },
        {
            "cell_type": "code",
            "execution_count": 156,
            "metadata": {
                "collapsed": true
            },
            "outputs": [
                {
                    "data": {
                        "text/plain": "{'meta': {'code': 200, 'requestId': '5de291d6882fc7001ba46598'},\n 'response': {'headerLocation': 'The Beaches',\n  'headerFullLocation': 'The Beaches, Toronto',\n  'headerLocationGranularity': 'neighborhood',\n  'totalResults': 4,\n  'suggestedBounds': {'ne': {'lat': 43.680857404499996,\n    'lng': -79.28682091449052},\n   'sw': {'lat': 43.67185739549999, 'lng': -79.29924148550948}},\n  'groups': [{'type': 'Recommended Places',\n    'name': 'recommended',\n    'items': [{'reasons': {'count': 0,\n       'items': [{'summary': 'This spot is popular',\n         'type': 'general',\n         'reasonName': 'globalInteractionReason'}]},\n      'venue': {'id': '4bd461bc77b29c74a07d9282',\n       'name': 'Glen Manor Ravine',\n       'location': {'address': 'Glen Manor',\n        'crossStreet': 'Queen St.',\n        'lat': 43.67682094413784,\n        'lng': -79.29394208780985,\n        'labeledLatLngs': [{'label': 'display',\n          'lat': 43.67682094413784,\n          'lng': -79.29394208780985}],\n        'distance': 89,\n        'cc': 'CA',\n        'city': 'Toronto',\n        'state': 'ON',\n        'country': 'Canada',\n        'formattedAddress': ['Glen Manor (Queen St.)',\n         'Toronto ON',\n         'Canada']},\n       'categories': [{'id': '4bf58dd8d48988d159941735',\n         'name': 'Trail',\n         'pluralName': 'Trails',\n         'shortName': 'Trail',\n         'icon': {'prefix': 'https://ss3.4sqi.net/img/categories_v2/parks_outdoors/hikingtrail_',\n          'suffix': '.png'},\n         'primary': True}],\n       'photos': {'count': 0, 'groups': []}},\n      'referralId': 'e-0-4bd461bc77b29c74a07d9282-0'},\n     {'reasons': {'count': 0,\n       'items': [{'summary': 'This spot is popular',\n         'type': 'general',\n         'reasonName': 'globalInteractionReason'}]},\n      'venue': {'id': '4ad4c062f964a52011f820e3',\n       'name': 'The Big Carrot Natural Food Market',\n       'location': {'address': '125 Southwood Dr',\n        'lat': 43.678879,\n        'lng': -79.297734,\n        'labeledLatLngs': [{'label': 'display',\n          'lat': 43.678879,\n          'lng': -79.297734}],\n        'distance': 471,\n        'postalCode': 'M4E 0B8',\n        'cc': 'CA',\n        'city': 'Toronto',\n        'state': 'ON',\n        'country': 'Canada',\n        'formattedAddress': ['125 Southwood Dr',\n         'Toronto ON M4E 0B8',\n         'Canada']},\n       'categories': [{'id': '50aa9e744b90af0d42d5de0e',\n         'name': 'Health Food Store',\n         'pluralName': 'Health Food Stores',\n         'shortName': 'Health Food Store',\n         'icon': {'prefix': 'https://ss3.4sqi.net/img/categories_v2/shops/food_grocery_',\n          'suffix': '.png'},\n         'primary': True}],\n       'photos': {'count': 0, 'groups': []},\n       'venuePage': {'id': '75150878'}},\n      'referralId': 'e-0-4ad4c062f964a52011f820e3-1'},\n     {'reasons': {'count': 0,\n       'items': [{'summary': 'This spot is popular',\n         'type': 'general',\n         'reasonName': 'globalInteractionReason'}]},\n      'venue': {'id': '4b8daea1f964a520480833e3',\n       'name': 'Grover Pub and Grub',\n       'location': {'address': '676 Kingston Rd.',\n        'crossStreet': 'at Main St.',\n        'lat': 43.679181434941015,\n        'lng': -79.29721535878515,\n        'labeledLatLngs': [{'label': 'display',\n          'lat': 43.679181434941015,\n          'lng': -79.29721535878515}],\n        'distance': 460,\n        'postalCode': 'M4E 1R4',\n        'cc': 'CA',\n        'city': 'Toronto',\n        'state': 'ON',\n        'country': 'Canada',\n        'formattedAddress': ['676 Kingston Rd. (at Main St.)',\n         'Toronto ON M4E 1R4',\n         'Canada']},\n       'categories': [{'id': '4bf58dd8d48988d11b941735',\n         'name': 'Pub',\n         'pluralName': 'Pubs',\n         'shortName': 'Pub',\n         'icon': {'prefix': 'https://ss3.4sqi.net/img/categories_v2/nightlife/pub_',\n          'suffix': '.png'},\n         'primary': True}],\n       'photos': {'count': 0, 'groups': []}},\n      'referralId': 'e-0-4b8daea1f964a520480833e3-2'},\n     {'reasons': {'count': 0,\n       'items': [{'summary': 'This spot is popular',\n         'type': 'general',\n         'reasonName': 'globalInteractionReason'}]},\n      'venue': {'id': '4df91c4bae60f95f82229ad5',\n       'name': 'Upper Beaches',\n       'location': {'lat': 43.68056321147582,\n        'lng': -79.2928688743688,\n        'labeledLatLngs': [{'label': 'display',\n          'lat': 43.68056321147582,\n          'lng': -79.2928688743688}],\n        'distance': 468,\n        'cc': 'CA',\n        'city': 'Toronto',\n        'state': 'ON',\n        'country': 'Canada',\n        'formattedAddress': ['Toronto ON', 'Canada']},\n       'categories': [{'id': '4f2a25ac4b909258e854f55f',\n         'name': 'Neighborhood',\n         'pluralName': 'Neighborhoods',\n         'shortName': 'Neighborhood',\n         'icon': {'prefix': 'https://ss3.4sqi.net/img/categories_v2/parks_outdoors/neighborhood_',\n          'suffix': '.png'},\n         'primary': True}],\n       'photos': {'count': 0, 'groups': []}},\n      'referralId': 'e-0-4df91c4bae60f95f82229ad5-3'}]}]}}"
                    },
                    "execution_count": 156,
                    "metadata": {},
                    "output_type": "execute_result"
                }
            ],
            "source": "results = requests.get(url).json()\nresults"
        },
        {
            "cell_type": "code",
            "execution_count": 165,
            "metadata": {},
            "outputs": [],
            "source": "results = results['response']['groups'][0]['items']"
        },
        {
            "cell_type": "markdown",
            "metadata": {},
            "source": "###### Transforming the json results to pandas dataframe "
        },
        {
            "cell_type": "code",
            "execution_count": 167,
            "metadata": {},
            "outputs": [],
            "source": "from pandas.io.json import json_normalize\nvenues = json_normalize(results)"
        },
        {
            "cell_type": "code",
            "execution_count": 204,
            "metadata": {},
            "outputs": [
                {
                    "name": "stdout",
                    "output_type": "stream",
                    "text": "4 venues were returned by Foursquare.\n"
                }
            ],
            "source": "print('{} venues were returned by Foursquare.'.format(venues.shape[0]))"
        },
        {
            "cell_type": "code",
            "execution_count": 168,
            "metadata": {},
            "outputs": [
                {
                    "data": {
                        "text/html": "<div>\n<style scoped>\n    .dataframe tbody tr th:only-of-type {\n        vertical-align: middle;\n    }\n\n    .dataframe tbody tr th {\n        vertical-align: top;\n    }\n\n    .dataframe thead th {\n        text-align: right;\n    }\n</style>\n<table border=\"1\" class=\"dataframe\">\n  <thead>\n    <tr style=\"text-align: right;\">\n      <th></th>\n      <th>reasons.count</th>\n      <th>reasons.items</th>\n      <th>referralId</th>\n      <th>venue.categories</th>\n      <th>venue.id</th>\n      <th>venue.location.address</th>\n      <th>venue.location.cc</th>\n      <th>venue.location.city</th>\n      <th>venue.location.country</th>\n      <th>venue.location.crossStreet</th>\n      <th>...</th>\n      <th>venue.location.formattedAddress</th>\n      <th>venue.location.labeledLatLngs</th>\n      <th>venue.location.lat</th>\n      <th>venue.location.lng</th>\n      <th>venue.location.postalCode</th>\n      <th>venue.location.state</th>\n      <th>venue.name</th>\n      <th>venue.photos.count</th>\n      <th>venue.photos.groups</th>\n      <th>venue.venuePage.id</th>\n    </tr>\n  </thead>\n  <tbody>\n    <tr>\n      <th>0</th>\n      <td>0</td>\n      <td>[{'summary': 'This spot is popular', 'type': '...</td>\n      <td>e-0-4bd461bc77b29c74a07d9282-0</td>\n      <td>[{'id': '4bf58dd8d48988d159941735', 'name': 'T...</td>\n      <td>4bd461bc77b29c74a07d9282</td>\n      <td>Glen Manor</td>\n      <td>CA</td>\n      <td>Toronto</td>\n      <td>Canada</td>\n      <td>Queen St.</td>\n      <td>...</td>\n      <td>[Glen Manor (Queen St.), Toronto ON, Canada]</td>\n      <td>[{'label': 'display', 'lat': 43.67682094413784...</td>\n      <td>43.676821</td>\n      <td>-79.293942</td>\n      <td>NaN</td>\n      <td>ON</td>\n      <td>Glen Manor Ravine</td>\n      <td>0</td>\n      <td>[]</td>\n      <td>NaN</td>\n    </tr>\n    <tr>\n      <th>1</th>\n      <td>0</td>\n      <td>[{'summary': 'This spot is popular', 'type': '...</td>\n      <td>e-0-4ad4c062f964a52011f820e3-1</td>\n      <td>[{'id': '50aa9e744b90af0d42d5de0e', 'name': 'H...</td>\n      <td>4ad4c062f964a52011f820e3</td>\n      <td>125 Southwood Dr</td>\n      <td>CA</td>\n      <td>Toronto</td>\n      <td>Canada</td>\n      <td>NaN</td>\n      <td>...</td>\n      <td>[125 Southwood Dr, Toronto ON M4E 0B8, Canada]</td>\n      <td>[{'label': 'display', 'lat': 43.678879, 'lng':...</td>\n      <td>43.678879</td>\n      <td>-79.297734</td>\n      <td>M4E 0B8</td>\n      <td>ON</td>\n      <td>The Big Carrot Natural Food Market</td>\n      <td>0</td>\n      <td>[]</td>\n      <td>75150878</td>\n    </tr>\n    <tr>\n      <th>2</th>\n      <td>0</td>\n      <td>[{'summary': 'This spot is popular', 'type': '...</td>\n      <td>e-0-4b8daea1f964a520480833e3-2</td>\n      <td>[{'id': '4bf58dd8d48988d11b941735', 'name': 'P...</td>\n      <td>4b8daea1f964a520480833e3</td>\n      <td>676 Kingston Rd.</td>\n      <td>CA</td>\n      <td>Toronto</td>\n      <td>Canada</td>\n      <td>at Main St.</td>\n      <td>...</td>\n      <td>[676 Kingston Rd. (at Main St.), Toronto ON M4...</td>\n      <td>[{'label': 'display', 'lat': 43.67918143494101...</td>\n      <td>43.679181</td>\n      <td>-79.297215</td>\n      <td>M4E 1R4</td>\n      <td>ON</td>\n      <td>Grover Pub and Grub</td>\n      <td>0</td>\n      <td>[]</td>\n      <td>NaN</td>\n    </tr>\n    <tr>\n      <th>3</th>\n      <td>0</td>\n      <td>[{'summary': 'This spot is popular', 'type': '...</td>\n      <td>e-0-4df91c4bae60f95f82229ad5-3</td>\n      <td>[{'id': '4f2a25ac4b909258e854f55f', 'name': 'N...</td>\n      <td>4df91c4bae60f95f82229ad5</td>\n      <td>NaN</td>\n      <td>CA</td>\n      <td>Toronto</td>\n      <td>Canada</td>\n      <td>NaN</td>\n      <td>...</td>\n      <td>[Toronto ON, Canada]</td>\n      <td>[{'label': 'display', 'lat': 43.68056321147582...</td>\n      <td>43.680563</td>\n      <td>-79.292869</td>\n      <td>NaN</td>\n      <td>ON</td>\n      <td>Upper Beaches</td>\n      <td>0</td>\n      <td>[]</td>\n      <td>NaN</td>\n    </tr>\n  </tbody>\n</table>\n<p>4 rows \u00d7 21 columns</p>\n</div>",
                        "text/plain": "   reasons.count                                      reasons.items  \\\n0              0  [{'summary': 'This spot is popular', 'type': '...   \n1              0  [{'summary': 'This spot is popular', 'type': '...   \n2              0  [{'summary': 'This spot is popular', 'type': '...   \n3              0  [{'summary': 'This spot is popular', 'type': '...   \n\n                       referralId  \\\n0  e-0-4bd461bc77b29c74a07d9282-0   \n1  e-0-4ad4c062f964a52011f820e3-1   \n2  e-0-4b8daea1f964a520480833e3-2   \n3  e-0-4df91c4bae60f95f82229ad5-3   \n\n                                    venue.categories  \\\n0  [{'id': '4bf58dd8d48988d159941735', 'name': 'T...   \n1  [{'id': '50aa9e744b90af0d42d5de0e', 'name': 'H...   \n2  [{'id': '4bf58dd8d48988d11b941735', 'name': 'P...   \n3  [{'id': '4f2a25ac4b909258e854f55f', 'name': 'N...   \n\n                   venue.id venue.location.address venue.location.cc  \\\n0  4bd461bc77b29c74a07d9282             Glen Manor                CA   \n1  4ad4c062f964a52011f820e3       125 Southwood Dr                CA   \n2  4b8daea1f964a520480833e3       676 Kingston Rd.                CA   \n3  4df91c4bae60f95f82229ad5                    NaN                CA   \n\n  venue.location.city venue.location.country venue.location.crossStreet  ...  \\\n0             Toronto                 Canada                  Queen St.  ...   \n1             Toronto                 Canada                        NaN  ...   \n2             Toronto                 Canada                at Main St.  ...   \n3             Toronto                 Canada                        NaN  ...   \n\n                     venue.location.formattedAddress  \\\n0       [Glen Manor (Queen St.), Toronto ON, Canada]   \n1     [125 Southwood Dr, Toronto ON M4E 0B8, Canada]   \n2  [676 Kingston Rd. (at Main St.), Toronto ON M4...   \n3                               [Toronto ON, Canada]   \n\n                       venue.location.labeledLatLngs venue.location.lat  \\\n0  [{'label': 'display', 'lat': 43.67682094413784...          43.676821   \n1  [{'label': 'display', 'lat': 43.678879, 'lng':...          43.678879   \n2  [{'label': 'display', 'lat': 43.67918143494101...          43.679181   \n3  [{'label': 'display', 'lat': 43.68056321147582...          43.680563   \n\n   venue.location.lng  venue.location.postalCode venue.location.state  \\\n0          -79.293942                        NaN                   ON   \n1          -79.297734                    M4E 0B8                   ON   \n2          -79.297215                    M4E 1R4                   ON   \n3          -79.292869                        NaN                   ON   \n\n                           venue.name venue.photos.count  venue.photos.groups  \\\n0                   Glen Manor Ravine                  0                   []   \n1  The Big Carrot Natural Food Market                  0                   []   \n2                 Grover Pub and Grub                  0                   []   \n3                       Upper Beaches                  0                   []   \n\n  venue.venuePage.id  \n0                NaN  \n1           75150878  \n2                NaN  \n3                NaN  \n\n[4 rows x 21 columns]"
                    },
                    "execution_count": 168,
                    "metadata": {},
                    "output_type": "execute_result"
                }
            ],
            "source": "venues.head()"
        },
        {
            "cell_type": "markdown",
            "metadata": {},
            "source": "###### Cleaning up the Venues dataframe for easy reference"
        },
        {
            "cell_type": "code",
            "execution_count": 169,
            "metadata": {},
            "outputs": [
                {
                    "data": {
                        "text/plain": "Index(['reasons.count', 'reasons.items', 'referralId', 'venue.categories',\n       'venue.id', 'venue.location.address', 'venue.location.cc',\n       'venue.location.city', 'venue.location.country',\n       'venue.location.crossStreet', 'venue.location.distance',\n       'venue.location.formattedAddress', 'venue.location.labeledLatLngs',\n       'venue.location.lat', 'venue.location.lng', 'venue.location.postalCode',\n       'venue.location.state', 'venue.name', 'venue.photos.count',\n       'venue.photos.groups', 'venue.venuePage.id'],\n      dtype='object')"
                    },
                    "execution_count": 169,
                    "metadata": {},
                    "output_type": "execute_result"
                }
            ],
            "source": "venues.columns"
        },
        {
            "cell_type": "code",
            "execution_count": 171,
            "metadata": {},
            "outputs": [],
            "source": "filtered_columns = ['venue.categories','venue.name','venue.location.lat','venue.location.lng']\nvenues = venues.loc[:, filtered_columns]"
        },
        {
            "cell_type": "code",
            "execution_count": 172,
            "metadata": {},
            "outputs": [
                {
                    "data": {
                        "text/html": "<div>\n<style scoped>\n    .dataframe tbody tr th:only-of-type {\n        vertical-align: middle;\n    }\n\n    .dataframe tbody tr th {\n        vertical-align: top;\n    }\n\n    .dataframe thead th {\n        text-align: right;\n    }\n</style>\n<table border=\"1\" class=\"dataframe\">\n  <thead>\n    <tr style=\"text-align: right;\">\n      <th></th>\n      <th>venue.categories</th>\n      <th>venue.name</th>\n      <th>venue.location.lat</th>\n      <th>venue.location.lng</th>\n    </tr>\n  </thead>\n  <tbody>\n    <tr>\n      <th>0</th>\n      <td>[{'id': '4bf58dd8d48988d159941735', 'name': 'T...</td>\n      <td>Glen Manor Ravine</td>\n      <td>43.676821</td>\n      <td>-79.293942</td>\n    </tr>\n    <tr>\n      <th>1</th>\n      <td>[{'id': '50aa9e744b90af0d42d5de0e', 'name': 'H...</td>\n      <td>The Big Carrot Natural Food Market</td>\n      <td>43.678879</td>\n      <td>-79.297734</td>\n    </tr>\n    <tr>\n      <th>2</th>\n      <td>[{'id': '4bf58dd8d48988d11b941735', 'name': 'P...</td>\n      <td>Grover Pub and Grub</td>\n      <td>43.679181</td>\n      <td>-79.297215</td>\n    </tr>\n    <tr>\n      <th>3</th>\n      <td>[{'id': '4f2a25ac4b909258e854f55f', 'name': 'N...</td>\n      <td>Upper Beaches</td>\n      <td>43.680563</td>\n      <td>-79.292869</td>\n    </tr>\n  </tbody>\n</table>\n</div>",
                        "text/plain": "                                    venue.categories  \\\n0  [{'id': '4bf58dd8d48988d159941735', 'name': 'T...   \n1  [{'id': '50aa9e744b90af0d42d5de0e', 'name': 'H...   \n2  [{'id': '4bf58dd8d48988d11b941735', 'name': 'P...   \n3  [{'id': '4f2a25ac4b909258e854f55f', 'name': 'N...   \n\n                           venue.name  venue.location.lat  venue.location.lng  \n0                   Glen Manor Ravine           43.676821          -79.293942  \n1  The Big Carrot Natural Food Market           43.678879          -79.297734  \n2                 Grover Pub and Grub           43.679181          -79.297215  \n3                       Upper Beaches           43.680563          -79.292869  "
                    },
                    "execution_count": 172,
                    "metadata": {},
                    "output_type": "execute_result"
                }
            ],
            "source": "venues.head()"
        },
        {
            "cell_type": "code",
            "execution_count": 180,
            "metadata": {},
            "outputs": [
                {
                    "data": {
                        "text/html": "<div>\n<style scoped>\n    .dataframe tbody tr th:only-of-type {\n        vertical-align: middle;\n    }\n\n    .dataframe tbody tr th {\n        vertical-align: top;\n    }\n\n    .dataframe thead th {\n        text-align: right;\n    }\n</style>\n<table border=\"1\" class=\"dataframe\">\n  <thead>\n    <tr style=\"text-align: right;\">\n      <th></th>\n      <th>categories</th>\n      <th>name</th>\n      <th>lat</th>\n      <th>lng</th>\n    </tr>\n  </thead>\n  <tbody>\n    <tr>\n      <th>0</th>\n      <td>[{'id': '4bf58dd8d48988d159941735', 'name': 'T...</td>\n      <td>Glen Manor Ravine</td>\n      <td>43.676821</td>\n      <td>-79.293942</td>\n    </tr>\n    <tr>\n      <th>1</th>\n      <td>[{'id': '50aa9e744b90af0d42d5de0e', 'name': 'H...</td>\n      <td>The Big Carrot Natural Food Market</td>\n      <td>43.678879</td>\n      <td>-79.297734</td>\n    </tr>\n    <tr>\n      <th>2</th>\n      <td>[{'id': '4bf58dd8d48988d11b941735', 'name': 'P...</td>\n      <td>Grover Pub and Grub</td>\n      <td>43.679181</td>\n      <td>-79.297215</td>\n    </tr>\n    <tr>\n      <th>3</th>\n      <td>[{'id': '4f2a25ac4b909258e854f55f', 'name': 'N...</td>\n      <td>Upper Beaches</td>\n      <td>43.680563</td>\n      <td>-79.292869</td>\n    </tr>\n  </tbody>\n</table>\n</div>",
                        "text/plain": "                                          categories  \\\n0  [{'id': '4bf58dd8d48988d159941735', 'name': 'T...   \n1  [{'id': '50aa9e744b90af0d42d5de0e', 'name': 'H...   \n2  [{'id': '4bf58dd8d48988d11b941735', 'name': 'P...   \n3  [{'id': '4f2a25ac4b909258e854f55f', 'name': 'N...   \n\n                                 name        lat        lng  \n0                   Glen Manor Ravine  43.676821 -79.293942  \n1  The Big Carrot Natural Food Market  43.678879 -79.297734  \n2                 Grover Pub and Grub  43.679181 -79.297215  \n3                       Upper Beaches  43.680563 -79.292869  "
                    },
                    "execution_count": 180,
                    "metadata": {},
                    "output_type": "execute_result"
                }
            ],
            "source": "venues.columns = [col.split('.')[-1] for col in venues.columns]\nvenues.head()"
        },
        {
            "cell_type": "code",
            "execution_count": 202,
            "metadata": {},
            "outputs": [],
            "source": "venues['categories'] = [None if len(row) == 0  else row[0]['name'] for row in venues['categories']] "
        },
        {
            "cell_type": "code",
            "execution_count": 203,
            "metadata": {},
            "outputs": [
                {
                    "data": {
                        "text/html": "<div>\n<style scoped>\n    .dataframe tbody tr th:only-of-type {\n        vertical-align: middle;\n    }\n\n    .dataframe tbody tr th {\n        vertical-align: top;\n    }\n\n    .dataframe thead th {\n        text-align: right;\n    }\n</style>\n<table border=\"1\" class=\"dataframe\">\n  <thead>\n    <tr style=\"text-align: right;\">\n      <th></th>\n      <th>categories</th>\n      <th>name</th>\n      <th>lat</th>\n      <th>lng</th>\n    </tr>\n  </thead>\n  <tbody>\n    <tr>\n      <th>0</th>\n      <td>Trail</td>\n      <td>Glen Manor Ravine</td>\n      <td>43.676821</td>\n      <td>-79.293942</td>\n    </tr>\n    <tr>\n      <th>1</th>\n      <td>Health Food Store</td>\n      <td>The Big Carrot Natural Food Market</td>\n      <td>43.678879</td>\n      <td>-79.297734</td>\n    </tr>\n    <tr>\n      <th>2</th>\n      <td>Pub</td>\n      <td>Grover Pub and Grub</td>\n      <td>43.679181</td>\n      <td>-79.297215</td>\n    </tr>\n    <tr>\n      <th>3</th>\n      <td>Neighborhood</td>\n      <td>Upper Beaches</td>\n      <td>43.680563</td>\n      <td>-79.292869</td>\n    </tr>\n  </tbody>\n</table>\n</div>",
                        "text/plain": "          categories                                name        lat        lng\n0              Trail                   Glen Manor Ravine  43.676821 -79.293942\n1  Health Food Store  The Big Carrot Natural Food Market  43.678879 -79.297734\n2                Pub                 Grover Pub and Grub  43.679181 -79.297215\n3       Neighborhood                       Upper Beaches  43.680563 -79.292869"
                    },
                    "execution_count": 203,
                    "metadata": {},
                    "output_type": "execute_result"
                }
            ],
            "source": "venues.head()"
        },
        {
            "cell_type": "markdown",
            "metadata": {},
            "source": "## Explore Neighborhoods in Toronto"
        },
        {
            "cell_type": "markdown",
            "metadata": {},
            "source": "###### Let's create a function to repeat the same process to all the neighborhoods in Toronto"
        },
        {
            "cell_type": "code",
            "execution_count": 206,
            "metadata": {},
            "outputs": [],
            "source": "def getNearbyVenues(names, latitudes, longitudes, radius=500):\n    \n    venues_list=[]\n    LIMIT = 10\n    for name, lat, lng in zip(names, latitudes, longitudes):\n        print(name)\n            \n        # create the API request URL\n        url = 'https://api.foursquare.com/v2/venues/explore?&client_id={}&client_secret={}&v={}&ll={},{}&radius={}&limit={}'.format(\n            CLIENT_ID, \n            CLIENT_SECRET, \n            VERSION, \n            lat, \n            lng, \n            radius, \n            LIMIT)\n            \n        # make the GET request\n        results = requests.get(url).json()[\"response\"]['groups'][0]['items']\n        \n        # return only relevant information for each nearby venue\n        venues_list.append([(\n            name, \n            lat, \n            lng, \n            v['venue']['name'], \n            v['venue']['location']['lat'], \n            v['venue']['location']['lng'],  \n            v['venue']['categories'][0]['name']) for v in results])\n\n    nearby_venues = pd.DataFrame([item for venue_list in venues_list for item in venue_list])\n    nearby_venues.columns = ['Neighborhood', \n                  'Neighborhood Latitude', \n                  'Neighborhood Longitude', \n                  'Venue', \n                  'Venue Latitude', \n                  'Venue Longitude', \n                  'Venue Category']\n    \n    return(nearby_venues)"
        },
        {
            "cell_type": "markdown",
            "metadata": {},
            "source": "###### Calling the function"
        },
        {
            "cell_type": "code",
            "execution_count": 207,
            "metadata": {},
            "outputs": [
                {
                    "name": "stdout",
                    "output_type": "stream",
                    "text": "The Beaches\nThe Danforth West, Riverdale\nThe Beaches West, India Bazaar\nStudio District\nLawrence Park\nDavisville North\nNorth Toronto West\nDavisville\nMoore Park, Summerhill East\nDeer Park, Forest Hill SE, Rathnelly, South Hill, Summerhill West\nRosedale\nCabbagetown, St. James Town\nChurch and Wellesley\nHarbourfront\nRyerson, Garden District\nSt. James Town\nBerczy Park\nCentral Bay Street\nAdelaide, King, Richmond\nHarbourfront East, Toronto Islands, Union Station\nDesign Exchange, Toronto Dominion Centre\nCommerce Court, Victoria Hotel\nRoselawn\nForest Hill North, Forest Hill West\nThe Annex, North Midtown, Yorkville\nHarbord, University of Toronto\nChinatown, Grange Park, Kensington Market\nCN Tower, Bathurst Quay, Island airport, Harbourfront West, King and Spadina, Railway Lands, South Niagara\nStn A PO Boxes 25 The Esplanade\nFirst Canadian Place, Underground city\nChristie\nDovercourt Village, Dufferin\nLittle Portugal, Trinity\nBrockton, Exhibition Place, Parkdale Village\nHigh Park, The Junction South\nParkdale, Roncesvalles\nRunnymede, Swansea\nBusiness Reply Mail Processing Centre 969 Eastern\n"
                }
            ],
            "source": "toronto_venues = getNearbyVenues(names=toronto_postal_coord['Neighborhood'],\n                                   latitudes=toronto_postal_coord['Latitude'],\n                                   longitudes=toronto_postal_coord['Longitude']\n                                  )"
        },
        {
            "cell_type": "code",
            "execution_count": 209,
            "metadata": {},
            "outputs": [
                {
                    "name": "stdout",
                    "output_type": "stream",
                    "text": "(339, 7)\n"
                },
                {
                    "data": {
                        "text/html": "<div>\n<style scoped>\n    .dataframe tbody tr th:only-of-type {\n        vertical-align: middle;\n    }\n\n    .dataframe tbody tr th {\n        vertical-align: top;\n    }\n\n    .dataframe thead th {\n        text-align: right;\n    }\n</style>\n<table border=\"1\" class=\"dataframe\">\n  <thead>\n    <tr style=\"text-align: right;\">\n      <th></th>\n      <th>Neighborhood</th>\n      <th>Neighborhood Latitude</th>\n      <th>Neighborhood Longitude</th>\n      <th>Venue</th>\n      <th>Venue Latitude</th>\n      <th>Venue Longitude</th>\n      <th>Venue Category</th>\n    </tr>\n  </thead>\n  <tbody>\n    <tr>\n      <th>0</th>\n      <td>The Beaches</td>\n      <td>43.676357</td>\n      <td>-79.293031</td>\n      <td>Glen Manor Ravine</td>\n      <td>43.676821</td>\n      <td>-79.293942</td>\n      <td>Trail</td>\n    </tr>\n    <tr>\n      <th>1</th>\n      <td>The Beaches</td>\n      <td>43.676357</td>\n      <td>-79.293031</td>\n      <td>The Big Carrot Natural Food Market</td>\n      <td>43.678879</td>\n      <td>-79.297734</td>\n      <td>Health Food Store</td>\n    </tr>\n    <tr>\n      <th>2</th>\n      <td>The Beaches</td>\n      <td>43.676357</td>\n      <td>-79.293031</td>\n      <td>Grover Pub and Grub</td>\n      <td>43.679181</td>\n      <td>-79.297215</td>\n      <td>Pub</td>\n    </tr>\n    <tr>\n      <th>3</th>\n      <td>The Beaches</td>\n      <td>43.676357</td>\n      <td>-79.293031</td>\n      <td>Upper Beaches</td>\n      <td>43.680563</td>\n      <td>-79.292869</td>\n      <td>Neighborhood</td>\n    </tr>\n    <tr>\n      <th>4</th>\n      <td>The Danforth West, Riverdale</td>\n      <td>43.679557</td>\n      <td>-79.352188</td>\n      <td>Pantheon</td>\n      <td>43.677621</td>\n      <td>-79.351434</td>\n      <td>Greek Restaurant</td>\n    </tr>\n  </tbody>\n</table>\n</div>",
                        "text/plain": "                   Neighborhood  Neighborhood Latitude  \\\n0                   The Beaches              43.676357   \n1                   The Beaches              43.676357   \n2                   The Beaches              43.676357   \n3                   The Beaches              43.676357   \n4  The Danforth West, Riverdale              43.679557   \n\n   Neighborhood Longitude                               Venue  Venue Latitude  \\\n0              -79.293031                   Glen Manor Ravine       43.676821   \n1              -79.293031  The Big Carrot Natural Food Market       43.678879   \n2              -79.293031                 Grover Pub and Grub       43.679181   \n3              -79.293031                       Upper Beaches       43.680563   \n4              -79.352188                            Pantheon       43.677621   \n\n   Venue Longitude     Venue Category  \n0       -79.293942              Trail  \n1       -79.297734  Health Food Store  \n2       -79.297215                Pub  \n3       -79.292869       Neighborhood  \n4       -79.351434   Greek Restaurant  "
                    },
                    "execution_count": 209,
                    "metadata": {},
                    "output_type": "execute_result"
                }
            ],
            "source": "print(toronto_venues.shape)\ntoronto_venues.head()"
        },
        {
            "cell_type": "code",
            "execution_count": 210,
            "metadata": {},
            "outputs": [
                {
                    "data": {
                        "text/plain": "Neighborhood\nAdelaide, King, Richmond                                                                                      10\nBerczy Park                                                                                                   10\nBrockton, Exhibition Place, Parkdale Village                                                                  10\nBusiness Reply Mail Processing Centre 969 Eastern                                                             10\nCN Tower, Bathurst Quay, Island airport, Harbourfront West, King and Spadina, Railway Lands, South Niagara    10\nCabbagetown, St. James Town                                                                                   10\nCentral Bay Street                                                                                            10\nChinatown, Grange Park, Kensington Market                                                                     10\nChristie                                                                                                      10\nChurch and Wellesley                                                                                          10\nCommerce Court, Victoria Hotel                                                                                10\nDavisville                                                                                                    10\nDavisville North                                                                                               8\nDeer Park, Forest Hill SE, Rathnelly, South Hill, Summerhill West                                             10\nDesign Exchange, Toronto Dominion Centre                                                                      10\nDovercourt Village, Dufferin                                                                                  10\nFirst Canadian Place, Underground city                                                                        10\nForest Hill North, Forest Hill West                                                                            4\nHarbord, University of Toronto                                                                                10\nHarbourfront                                                                                                  10\nHarbourfront East, Toronto Islands, Union Station                                                             10\nHigh Park, The Junction South                                                                                 10\nLawrence Park                                                                                                  3\nLittle Portugal, Trinity                                                                                      10\nMoore Park, Summerhill East                                                                                    4\nNorth Toronto West                                                                                            10\nParkdale, Roncesvalles                                                                                        10\nRosedale                                                                                                       4\nRoselawn                                                                                                       2\nRunnymede, Swansea                                                                                            10\nRyerson, Garden District                                                                                      10\nSt. James Town                                                                                                10\nStn A PO Boxes 25 The Esplanade                                                                               10\nStudio District                                                                                               10\nThe Annex, North Midtown, Yorkville                                                                           10\nThe Beaches                                                                                                    4\nThe Beaches West, India Bazaar                                                                                10\nThe Danforth West, Riverdale                                                                                  10\nName: Venue, dtype: int64"
                    },
                    "execution_count": 210,
                    "metadata": {},
                    "output_type": "execute_result"
                }
            ],
            "source": "toronto_venues.groupby(['Neighborhood'])['Venue'].count()"
        },
        {
            "cell_type": "code",
            "execution_count": 218,
            "metadata": {},
            "outputs": [
                {
                    "name": "stdout",
                    "output_type": "stream",
                    "text": "Number of unique Categories of Venues present in Toronto : 114\n"
                }
            ],
            "source": "print('Number of unique Categories of Venues present in Toronto : {}'.format(len(toronto_venues['Venue Category'].unique())))"
        },
        {
            "cell_type": "markdown",
            "metadata": {},
            "source": "## Analyze Neighborhood and its Venues "
        },
        {
            "cell_type": "code",
            "execution_count": 271,
            "metadata": {},
            "outputs": [
                {
                    "data": {
                        "text/html": "<div>\n<style scoped>\n    .dataframe tbody tr th:only-of-type {\n        vertical-align: middle;\n    }\n\n    .dataframe tbody tr th {\n        vertical-align: top;\n    }\n\n    .dataframe thead th {\n        text-align: right;\n    }\n</style>\n<table border=\"1\" class=\"dataframe\">\n  <thead>\n    <tr style=\"text-align: right;\">\n      <th></th>\n      <th>Yoga Studio</th>\n      <th>Airport</th>\n      <th>Airport Food Court</th>\n      <th>Airport Gate</th>\n      <th>Airport Lounge</th>\n      <th>Airport Terminal</th>\n      <th>American Restaurant</th>\n      <th>Arts &amp; Crafts Store</th>\n      <th>Asian Restaurant</th>\n      <th>Auto Workshop</th>\n      <th>...</th>\n      <th>Sushi Restaurant</th>\n      <th>Swim School</th>\n      <th>Tea Room</th>\n      <th>Tennis Court</th>\n      <th>Thai Restaurant</th>\n      <th>Theater</th>\n      <th>Theme Restaurant</th>\n      <th>Trail</th>\n      <th>Vegetarian / Vegan Restaurant</th>\n      <th>Wine Bar</th>\n    </tr>\n  </thead>\n  <tbody>\n    <tr>\n      <th>0</th>\n      <td>0</td>\n      <td>0</td>\n      <td>0</td>\n      <td>0</td>\n      <td>0</td>\n      <td>0</td>\n      <td>0</td>\n      <td>0</td>\n      <td>0</td>\n      <td>0</td>\n      <td>...</td>\n      <td>0</td>\n      <td>0</td>\n      <td>0</td>\n      <td>0</td>\n      <td>0</td>\n      <td>0</td>\n      <td>0</td>\n      <td>1</td>\n      <td>0</td>\n      <td>0</td>\n    </tr>\n    <tr>\n      <th>1</th>\n      <td>0</td>\n      <td>0</td>\n      <td>0</td>\n      <td>0</td>\n      <td>0</td>\n      <td>0</td>\n      <td>0</td>\n      <td>0</td>\n      <td>0</td>\n      <td>0</td>\n      <td>...</td>\n      <td>0</td>\n      <td>0</td>\n      <td>0</td>\n      <td>0</td>\n      <td>0</td>\n      <td>0</td>\n      <td>0</td>\n      <td>0</td>\n      <td>0</td>\n      <td>0</td>\n    </tr>\n    <tr>\n      <th>2</th>\n      <td>0</td>\n      <td>0</td>\n      <td>0</td>\n      <td>0</td>\n      <td>0</td>\n      <td>0</td>\n      <td>0</td>\n      <td>0</td>\n      <td>0</td>\n      <td>0</td>\n      <td>...</td>\n      <td>0</td>\n      <td>0</td>\n      <td>0</td>\n      <td>0</td>\n      <td>0</td>\n      <td>0</td>\n      <td>0</td>\n      <td>0</td>\n      <td>0</td>\n      <td>0</td>\n    </tr>\n    <tr>\n      <th>3</th>\n      <td>0</td>\n      <td>0</td>\n      <td>0</td>\n      <td>0</td>\n      <td>0</td>\n      <td>0</td>\n      <td>0</td>\n      <td>0</td>\n      <td>0</td>\n      <td>0</td>\n      <td>...</td>\n      <td>0</td>\n      <td>0</td>\n      <td>0</td>\n      <td>0</td>\n      <td>0</td>\n      <td>0</td>\n      <td>0</td>\n      <td>0</td>\n      <td>0</td>\n      <td>0</td>\n    </tr>\n    <tr>\n      <th>4</th>\n      <td>0</td>\n      <td>0</td>\n      <td>0</td>\n      <td>0</td>\n      <td>0</td>\n      <td>0</td>\n      <td>0</td>\n      <td>0</td>\n      <td>0</td>\n      <td>0</td>\n      <td>...</td>\n      <td>0</td>\n      <td>0</td>\n      <td>0</td>\n      <td>0</td>\n      <td>0</td>\n      <td>0</td>\n      <td>0</td>\n      <td>0</td>\n      <td>0</td>\n      <td>0</td>\n    </tr>\n  </tbody>\n</table>\n<p>5 rows \u00d7 114 columns</p>\n</div>",
                        "text/plain": "   Yoga Studio  Airport  Airport Food Court  Airport Gate  Airport Lounge  \\\n0            0        0                   0             0               0   \n1            0        0                   0             0               0   \n2            0        0                   0             0               0   \n3            0        0                   0             0               0   \n4            0        0                   0             0               0   \n\n   Airport Terminal  American Restaurant  Arts & Crafts Store  \\\n0                 0                    0                    0   \n1                 0                    0                    0   \n2                 0                    0                    0   \n3                 0                    0                    0   \n4                 0                    0                    0   \n\n   Asian Restaurant  Auto Workshop  ...  Sushi Restaurant  Swim School  \\\n0                 0              0  ...                 0            0   \n1                 0              0  ...                 0            0   \n2                 0              0  ...                 0            0   \n3                 0              0  ...                 0            0   \n4                 0              0  ...                 0            0   \n\n   Tea Room  Tennis Court  Thai Restaurant  Theater  Theme Restaurant  Trail  \\\n0         0             0                0        0                 0      1   \n1         0             0                0        0                 0      0   \n2         0             0                0        0                 0      0   \n3         0             0                0        0                 0      0   \n4         0             0                0        0                 0      0   \n\n   Vegetarian / Vegan Restaurant  Wine Bar  \n0                              0         0  \n1                              0         0  \n2                              0         0  \n3                              0         0  \n4                              0         0  \n\n[5 rows x 114 columns]"
                    },
                    "execution_count": 271,
                    "metadata": {},
                    "output_type": "execute_result"
                }
            ],
            "source": "# one hot encoding\ntoronto_onehot = pd.get_dummies(toronto_venues[['Venue Category']], prefix=\"\", prefix_sep=\"\")\n\n# add neighborhood column back to dataframe\ntoronto_onehot['Neighborhood'] = pd.Series(toronto_venues['Neighborhood'])\n\n# move neighborhood column to the first column\nfixed_columns = [toronto_onehot.columns[-1]] + list(toronto_onehot.columns[:-1])\ntoronto_onehot = toronto_onehot[fixed_columns]\n\ntoronto_onehot.head()"
        },
        {
            "cell_type": "code",
            "execution_count": null,
            "metadata": {},
            "outputs": [],
            "source": ""
        }
    ],
    "metadata": {
        "kernelspec": {
            "display_name": "Python 3.6",
            "language": "python",
            "name": "python3"
        },
        "language_info": {
            "codemirror_mode": {
                "name": "ipython",
                "version": 3
            },
            "file_extension": ".py",
            "mimetype": "text/x-python",
            "name": "python",
            "nbconvert_exporter": "python",
            "pygments_lexer": "ipython3",
            "version": "3.6.8"
        }
    },
    "nbformat": 4,
    "nbformat_minor": 1
}